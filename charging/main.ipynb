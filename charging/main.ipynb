{
 "cells": [
  {
   "cell_type": "code",
   "execution_count": 1,
   "id": "78e634d9-19a1-4532-9f85-3999acbae21c",
   "metadata": {
    "ExecuteTime": {
     "end_time": "2024-11-08T00:59:28.825618Z",
     "start_time": "2024-11-08T00:59:27.398569Z"
    }
   },
   "outputs": [],
   "source": [
    "import warnings\n",
    "warnings.filterwarnings(\"ignore\")\n",
    "\n",
    "import os\n",
    "import time\n",
    "import numpy as np\n",
    "import pandas as pd\n",
    "import pickle as pkl\n",
    "import matplotlib.pyplot as plt\n",
    "import statsmodels.api as sm\n",
    "import statsmodels.formula.api as smf\n",
    "import src\n",
    "from src.reload import deep_reload\n",
    "from src.utilities import load_itineraries"
   ]
  },
  {
   "cell_type": "code",
   "execution_count": 2,
   "id": "089df11e-3008-4346-b5f5-73eba08e28db",
   "metadata": {
    "tags": [],
    "ExecuteTime": {
     "end_time": "2024-11-08T00:59:36.982824Z",
     "start_time": "2024-11-08T00:59:30.548849Z"
    }
   },
   "outputs": [
    {
     "name": "stdout",
     "output_type": "stream",
     "text": [
      "Loaded itineraries from weekday file.\n"
     ]
    }
   ],
   "source": [
    "#Importing itineraries\n",
    "itineraries = load_itineraries(weekday=True)  # Change to False for weekend"
   ]
  },
  {
   "cell_type": "code",
   "execution_count": null,
   "id": "c242a1c4-6cf7-45a4-86c2-9d4b9a385c87",
   "metadata": {
    "tags": []
   },
   "outputs": [],
   "source": [
    "deep_reload(src)\n",
    "n=1\n",
    "print(n)\n",
    "\n",
    "solver_kwargs = {'_name': 'cbc', 'executable': '/opt/homebrew/bin/cbc'}\n",
    "\n",
    "itinerary_kwargs={\n",
    "    'initial_soc':1,\n",
    "    'final_soc':1,\n",
    "    'initial_sof':1,\n",
    "    'final_sof':1,\n",
    "    'battery_capacity':82*3.6e6,\n",
    "    'home_charger_likelihood':1,\n",
    "    'work_charger_likelihood':1,\n",
    "    'destination_charger_likelihood':.1,\n",
    "}\n",
    "\n",
    "# itinerary_kwargs={}\n",
    "problem=src.optimization.EVCSP(itineraries[n],itinerary_kwargs=itinerary_kwargs)\n",
    "problem.Solve(solver_kwargs)\n",
    "print(f'solver status: {problem.solver_status}, '+\n",
    "      f'solver termination condition: {problem.solver_termination_condition}')\n",
    "print(f'sic: {problem.sic}')"
   ]
  },
  {
   "cell_type": "code",
   "execution_count": null,
   "id": "26e337a8-747f-4cad-a194-2660cbd58673",
   "metadata": {
    "tags": []
   },
   "outputs": [],
   "source": [
    "deep_reload(src)\n",
    "\n",
    "line_kwargs={\n",
    "    'linewidth':3,\n",
    "}\n",
    "\n",
    "axes_kwargs={\n",
    "    'facecolor':'whitesmoke',\n",
    "    'ylim':[0,1],\n",
    "    'xlabel':'Trip/Park Event',\n",
    "    'ylabel':'SOC [-]',\n",
    "}\n",
    "\n",
    "fig,ax=plt.subplots(1,1,figsize=(8,4))\n",
    "if not hasattr(ax,'__iter__'):\n",
    "    ax=[ax]\n",
    "    \n",
    "ax[0].plot(problem.solution.soc)\n",
    "# ax[0].plot(problem.solution.sof)\n",
    "# ax[0].plot(problem.solution.u_cd_cs[0])\n",
    "\n",
    "_=[ax.grid(ls='--') for ax in ax]"
   ]
  },
  {
   "cell_type": "code",
   "execution_count": 3,
   "id": "ca209e0b-f655-4849-8373-a484500c879f",
   "metadata": {
    "ExecuteTime": {
     "end_time": "2024-11-08T01:00:09.411687Z",
     "start_time": "2024-11-08T00:59:56.577148Z"
    }
   },
   "outputs": [],
   "source": [
    "deep_reload(src)\n",
    "\n",
    "itinerary_kwargs={\n",
    "\t'tiles':5,\n",
    "\t'initial_sof':1,\n",
    "\t'final_sof':1,\n",
    "    'battery_capacity':82*3.6e6,\n",
    "\t'home_charger_likelihood':1,\n",
    "\t'work_charger_likelihood':0.75,\n",
    "\t'destination_charger_likelihood':.25\n",
    "}\n",
    "\n",
    "experiment_keys=[\n",
    "    'battery_capacity'\n",
    "\t'home_charger_likelihood',\n",
    "\t'work_charger_likelihood',\n",
    "\t'destination_charger_likelihood',\n",
    "]\n",
    "\n",
    "experiment_levels=[\n",
    "    [75*3.6e6, 66*3.6e6, 60*3.6e6],\n",
    "\t[0.5,.75, 1],\n",
    "\t[0.25,0.5,0.75],\n",
    "\t[0,.25,.5],\n",
    "]\n",
    "\n",
    "experiment_inputs=src.experiments.GenerateExperiment(\n",
    "\titinerary_kwargs,experiment_keys,experiment_levels)\n",
    "\n",
    "exp_itineraries=src.experiments.SelectItineraries(itineraries,1,seed=1000)\n",
    "\n",
    "solver_kwargs = {'_name': 'cbc', 'executable': '/opt/homebrew/bin/cbc','threads':10}\n",
    "\n",
    "vehicle_classes=[\n",
    "    src.optimization.EVCSP,\n",
    "]\n",
    "\n",
    "experiment_results=src.experiments.RunExperiment(\n",
    "    vehicle_classes,\n",
    "\texp_itineraries,\n",
    "    experiment_inputs,\n",
    "    iter_time=1,\n",
    "    solver_kwargs=solver_kwargs,\n",
    "    disp=False,\n",
    "    repititions=3,\n",
    ")"
   ]
  },
  {
   "cell_type": "code",
   "execution_count": null,
   "id": "1ef80d0e-c154-4400-b236-6c9265d00dde",
   "metadata": {},
   "outputs": [],
   "source": [
    "experiment_results=pkl.load(open('Data/Generated_Data/output_12072023_174102.pkl','rb'))"
   ]
  },
  {
   "cell_type": "code",
   "execution_count": null,
   "id": "826b2a51-78a5-4a4a-ad9d-02d2a3c4ccd3",
   "metadata": {},
   "outputs": [],
   "source": [
    "deep_reload(src)\n",
    "\n",
    "out=src.experiments.ProcessResults(experiment_results)\n",
    "out"
   ]
  },
  {
   "cell_type": "code",
   "execution_count": null,
   "id": "97bdd8e5-8b2d-4e0a-b807-0d60f07b9da8",
   "metadata": {
    "tags": []
   },
   "outputs": [],
   "source": [
    "out['sic_bev']=out['sic_mean_0']\n",
    "out['bc']=out['battery_capacity']\n",
    "out['hcl']=out['home_charger_likelihood']\n",
    "out['wcl']=out['work_charger_likelihood']\n",
    "out['dcl']=out['destination_charger_likelihood']\n",
    "\n",
    "formula_bev=(\n",
    "    'sic_bev~'+\n",
    "    'bc*'+\n",
    "    'hcl*'+\n",
    "    'wcl*'+\n",
    "    'dcl'\n",
    ")\n",
    "model_bev=smf.ols(formula=formula_bev,data=out).fit()\n"
   ]
  },
  {
   "cell_type": "code",
   "execution_count": null,
   "id": "afda109c-866a-4ac6-9614-0c6a05015af5",
   "metadata": {},
   "outputs": [],
   "source": [
    "deep_reload(src)\n",
    "\n",
    "cmap=src.figures.ReturnColorMap('viridis')\n",
    "cs=src.figures.colors['forest']\n",
    "\n",
    "bar_kwargs={\n",
    "    'fc':cs[3],\n",
    "    'ec':cs[2],\n",
    "    'lw':5,\n",
    "    'error_kw':{\n",
    "        'ecolor':cs[1],\n",
    "        'capsize':10,\n",
    "        'capthick':5,\n",
    "        'lw':5,\n",
    "    }}\n",
    "\n",
    "axes_kwargs={\n",
    "    'facecolor':'whitesmoke',\n",
    "    # 'xlim':[-.8,.8],\n",
    "}\n",
    "\n",
    "alpha=.05\n",
    "\n",
    "fig,ax=plt.subplots(1,3,figsize=(15,5))\n",
    "\n",
    "src.figures.FactorsPlot(model_bev,ax=ax[0],alpha=alpha,\n",
    "                        bar_kwargs=bar_kwargs,axes_kwargs=axes_kwargs)\n",
    "\n",
    "_=[ax.grid(ls='--') for ax in ax]"
   ]
  },
  {
   "cell_type": "code",
   "execution_count": null,
   "id": "60e506ae-e1fc-4639-8abe-0525bba7d661",
   "metadata": {},
   "outputs": [],
   "source": []
  }
 ],
 "metadata": {
  "kernelspec": {
   "display_name": "Python 3 (ipykernel)",
   "language": "python",
   "name": "python3"
  },
  "language_info": {
   "codemirror_mode": {
    "name": "ipython",
    "version": 3
   },
   "file_extension": ".py",
   "mimetype": "text/x-python",
   "name": "python",
   "nbconvert_exporter": "python",
   "pygments_lexer": "ipython3",
   "version": "3.11.5"
  }
 },
 "nbformat": 4,
 "nbformat_minor": 5
}
