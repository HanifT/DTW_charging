{
 "cells": [
  {
   "cell_type": "code",
   "execution_count": 1,
   "id": "e21e3397-cdeb-41b6-b6b0-f43e6ba46cac",
   "metadata": {},
   "outputs": [],
   "source": [
    "import warnings\n",
    "warnings.filterwarnings(\"ignore\")\n",
    "\n",
    "import os\n",
    "import time\n",
    "import numpy as np\n",
    "import pandas as pd\n",
    "import pickle as pkl\n",
    "import matplotlib.pyplot as plt\n",
    "\n",
    "import src\n",
    "from src.reload import deep_reload\n",
    "\n",
    "np.set_printoptions(suppress=True,precision=5)"
   ]
  },
  {
   "cell_type": "code",
   "execution_count": 2,
   "id": "2378fc4d-3989-4b99-a62e-656f76bfbd65",
   "metadata": {
    "tags": []
   },
   "outputs": [
    {
     "name": "stdout",
     "output_type": "stream",
     "text": [
      "  0           0 RESUME                   0\n",
      "\n",
      "  1           2 BUILD_MAP                0\n",
      "              4 RETURN_VALUE\n"
     ]
    }
   ],
   "source": [
    "import dis\n",
    "dis.dis('{}')"
   ]
  },
  {
   "cell_type": "code",
   "execution_count": 3,
   "id": "e8f91582-dcdc-43b1-9bc5-0b81d57374af",
   "metadata": {
    "tags": []
   },
   "outputs": [
    {
     "data": {
      "text/plain": [
       "b'\\x97\\x00t\\x01\\x00\\x00\\x00\\x00\\x00\\x00\\x00\\x00\\x00\\x00d\\x01\\xa6\\x01\\x00\\x00\\xab\\x01\\x00\\x00\\x00\\x00\\x00\\x00\\x00\\x00\\x01\\x00d\\x00S\\x00'"
      ]
     },
     "execution_count": 3,
     "metadata": {},
     "output_type": "execute_result"
    }
   ],
   "source": [
    "def Hello():\n",
    "    print('Hello World')\n",
    "\n",
    "Hello.__code__.co_code"
   ]
  },
  {
   "cell_type": "code",
   "execution_count": 4,
   "id": "cc1bfb91-a86c-481b-b581-ca3bbf13ab49",
   "metadata": {
    "tags": []
   },
   "outputs": [
    {
     "name": "stdout",
     "output_type": "stream",
     "text": [
      "  0           0 RESUME                   0\n",
      "\n",
      "  1           2 PUSH_NULL\n",
      "              4 LOAD_NAME                0 (dict)\n",
      "              6 PRECALL                  0\n",
      "             10 CALL                     0\n",
      "             20 RETURN_VALUE\n"
     ]
    }
   ],
   "source": [
    "import dis\n",
    "dis.dis('dict()')"
   ]
  },
  {
   "cell_type": "code",
   "execution_count": 45,
   "id": "fb5fa121-131f-42a6-a8b3-4869130d0d3e",
   "metadata": {
    "tags": []
   },
   "outputs": [],
   "source": [
    "#Importing itineraries\n",
    "\n",
    "itineraries=pd.read_pickle('Data/Generated_Data/itineraries.pkl')"
   ]
  },
  {
   "cell_type": "code",
   "execution_count": 260,
   "id": "8effac67-8221-4e2c-a702-4b1c3237e868",
   "metadata": {
    "tags": []
   },
   "outputs": [
    {
     "data": {
      "text/plain": [
       "[array([0, 0, 0, 0, 0, 0, 0]),\n",
       " array([12100,     0,     0,     0,     0,     0,     0]),\n",
       " array([    0, 12100,     0,     0,     0,     0,     0]),\n",
       " array([12100, 12100,     0,     0,     0,     0,     0]),\n",
       " array([    0,     0, 12100,     0,     0,     0,     0]),\n",
       " array([12100,     0, 12100,     0,     0,     0,     0]),\n",
       " array([    0, 12100, 12100,     0,     0,     0,     0]),\n",
       " array([    0,     0,     0, 12100,     0,     0,     0]),\n",
       " array([12100,     0,     0, 12100,     0,     0,     0]),\n",
       " array([    0, 12100,     0, 12100,     0,     0,     0]),\n",
       " array([    0,     0, 12100, 12100,     0,     0,     0]),\n",
       " array([    0,     0,     0,     0, 12100,     0,     0]),\n",
       " array([12100,     0,     0,     0, 12100,     0,     0]),\n",
       " array([    0, 12100,     0,     0, 12100,     0,     0]),\n",
       " array([    0,     0, 12100,     0, 12100,     0,     0]),\n",
       " array([    0,     0,     0, 12100, 12100,     0,     0]),\n",
       " array([    0,     0,     0,     0,     0, 12100,     0]),\n",
       " array([12100,     0,     0,     0,     0, 12100,     0]),\n",
       " array([    0, 12100,     0,     0,     0, 12100,     0]),\n",
       " array([    0,     0, 12100,     0,     0, 12100,     0])]"
      ]
     },
     "execution_count": 260,
     "metadata": {},
     "output_type": "execute_result"
    }
   ],
   "source": [
    "[b.destination_charger_power_array[b.is_home] for b in bevs]"
   ]
  },
  {
   "cell_type": "code",
   "execution_count": 331,
   "id": "6d79cd2c-e118-4a8e-a26f-7e6b7ce92dac",
   "metadata": {
    "tags": []
   },
   "outputs": [
    {
     "name": "stdout",
     "output_type": "stream",
     "text": [
      "6557\n",
      "39.238\n"
     ]
    }
   ],
   "source": [
    "#Test Simulation\n",
    "deep_reload(src)\n",
    "\n",
    "# n=np.random.randint(0,len(itineraries)-1)\n",
    "# n=146781\n",
    "# n=12453\n",
    "# n=142611\n",
    "# n=26109\n",
    "print(n)\n",
    "\n",
    "bev=src.bev_lp.Vehicle(\n",
    "    itineraries[n]['trips'],\n",
    "    initial_soc=.5,\n",
    "    final_soc=.5,\n",
    "    # en_route_charger_power=0,\n",
    "    # destination_charger_likelihood=0,\n",
    "    # home_charger_power=0,\n",
    "    work_charger_power=0,\n",
    "    tiles=7,\n",
    "    )\n",
    "# print(bev.destination_charger_power_array)\n",
    "\n",
    "m=20\n",
    "lkl=.9\n",
    "bevs,likelihood=src.bev_lp.VehicleFactorial(bev,lkl,m)"
   ]
  },
  {
   "cell_type": "code",
   "execution_count": 332,
   "id": "817074c9-e330-47c2-8637-5f94eb3a854d",
   "metadata": {
    "tags": []
   },
   "outputs": [
    {
     "name": "stdout",
     "output_type": "stream",
     "text": [
      "0.04744076728820801 0.12447381019592285 0.005292177200317383\n"
     ]
    }
   ],
   "source": [
    "# The problem is solved using PuLP's choice of Solver\n",
    "deep_reload(src)\n",
    "import pulp\n",
    "\n",
    "t0=time.time()\n",
    "problem=src.bev_lp.StochasticLinearProblem(bevs)\n",
    "\n",
    "t1=time.time()\n",
    "solver=pulp.PULP_CBC_CMD(msg=0)\n",
    "res=problem.solve(solver)\n",
    "\n",
    "t2=time.time()\n",
    "\n",
    "solution=src.bev_lp.Solution(problem)\n",
    "sic_expected=src.bev_lp.ComputeSIC(bevs[0],solution)\n",
    "\n",
    "t3=time.time()\n",
    "print(t1-t0,t2-t1,t3-t2)"
   ]
  },
  {
   "cell_type": "code",
   "execution_count": 333,
   "id": "b50701ba-edd7-40d5-9e8d-e8415dd89497",
   "metadata": {
    "tags": []
   },
   "outputs": [
    {
     "data": {
      "text/plain": [
       "{'acceb': array([0., 0., 0., 0., 0., 0., 0., 1., 0., 0., 0., 1., 0., 0., 0., 1., 0.,\n",
       "        0., 0., 1., 0., 0., 0., 1., 0., 0., 0., 1.]),\n",
       " 'acced': array([    0.    ,     0.    ,     0.    ,     0.    ,     0.    ,\n",
       "            0.    ,     0.    ,  4372.8189,     0.    ,     0.    ,\n",
       "            0.    ,  4372.8189,     0.    ,     0.    ,     0.    ,\n",
       "         4372.8189,     0.    ,     0.    ,     0.    ,  4372.8189,\n",
       "            0.    ,     0.    ,     0.    ,  4372.8189,     0.    ,\n",
       "            0.    ,     0.    , 49140.    ]),\n",
       " 'dcceb': array([0., 0., 0., 0., 0., 0., 0., 0., 0., 0., 0., 0., 0., 0., 0., 0., 0.,\n",
       "        0., 0., 0., 0., 0., 0., 0., 0., 0., 0., 0.]),\n",
       " 'dcced': array([0., 0., 0., 0., 0., 0., 0., 0., 0., 0., 0., 0., 0., 0., 0., 0., 0.,\n",
       "        0., 0., 0., 0., 0., 0., 0., 0., 0., 0., 0.])}"
      ]
     },
     "execution_count": 333,
     "metadata": {},
     "output_type": "execute_result"
    }
   ],
   "source": [
    "solution"
   ]
  },
  {
   "cell_type": "code",
   "execution_count": 311,
   "id": "fa4b7a82-9f81-4fa1-b3ad-13dbb91047ca",
   "metadata": {
    "tags": []
   },
   "outputs": [
    {
     "name": "stdout",
     "output_type": "stream",
     "text": [
      "[0.1319  0.      0.      0.      0.      0.      0.      0.      0.\n",
      " 0.      0.      0.00678 0.      0.      0.      0.      0.02562 0.\n",
      " 0.      0.     ]\n",
      "0.22474002838134766\n"
     ]
    }
   ],
   "source": [
    "deep_reload(src)\n",
    "import pulp\n",
    "\n",
    "t0=time.time()\n",
    "solver=pulp.PULP_CBC_CMD(msg=0)\n",
    "sic_mean=src.bev_lp.SolveConstituents(bevs,solver)\n",
    "\n",
    "t1=time.time()\n",
    "print(t1-t0)"
   ]
  },
  {
   "cell_type": "code",
   "execution_count": 281,
   "id": "6d64ce04-4d80-4188-95fe-b961d9fbb881",
   "metadata": {
    "tags": []
   },
   "outputs": [
    {
     "data": {
      "text/plain": [
       "(0.12368578733006057, 0.13190082727225055, 0.008215039942189984)"
      ]
     },
     "execution_count": 281,
     "metadata": {},
     "output_type": "execute_result"
    }
   ],
   "source": [
    "sic_expected-sic_mean,sic_expected,sic_mean"
   ]
  },
  {
   "cell_type": "code",
   "execution_count": 282,
   "id": "2fbf4c60-0050-482d-9014-d593d286e779",
   "metadata": {
    "tags": []
   },
   "outputs": [
    {
     "data": {
      "text/plain": [
       "3498.25512"
      ]
     },
     "execution_count": 282,
     "metadata": {},
     "output_type": "execute_result"
    },
    {
     "data": {
      "image/png": "[encoded data removed]",
      "text/plain": [
       "<Figure size 640x480 with 1 Axes>"
      ]
     },
     "metadata": {},
     "output_type": "display_data"
    }
   ],
   "source": [
    "soc=bev.initial_soc+(\n",
    "    -np.cumsum(bev.discharge_events)+\n",
    "    np.cumsum(solution['acced']*bev.destination_charger_power_array)+\n",
    "    np.cumsum(solution['dcced']*bev.en_route_charger_power))/bev.battery_capacity\n",
    "sic=(\n",
    "    sum(solution['acceb']*bev.is_other.astype(int)*bev.payment_penalty)+\n",
    "    sum(solution['dcceb']*(bev.payment_penalty+bev.travel_penalty))+\n",
    "    sum(solution['dcced']))\n",
    "plt.plot(soc)\n",
    "sic"
   ]
  },
  {
   "cell_type": "code",
   "execution_count": 326,
   "id": "992db3e1-b594-4d1f-8bd6-34a1261a2e2f",
   "metadata": {
    "tags": []
   },
   "outputs": [
    {
     "name": "stdout",
     "output_type": "stream",
     "text": [
      "0.010245084762573242 0.0028018951416015625\n"
     ]
    }
   ],
   "source": [
    "# The problem is solved using PuLP's choice of Solver\n",
    "deep_reload(src)\n",
    "import pulp\n",
    "\n",
    "solver=pulp.PULP_CBC_CMD(msg=0)\n",
    "\n",
    "t0=time.time()\n",
    "problem=src.bev_lp.LinearProblem(bevs[5])\n",
    "\n",
    "t1=time.time()\n",
    "res=problem.solve(solver)\n",
    "\n",
    "t2=time.time()\n",
    "print(t2-t1,t1-t0)\n",
    "# res"
   ]
  },
  {
   "cell_type": "code",
   "execution_count": 327,
   "id": "b9dcf06d-868c-491a-90d2-875cd09a7a92",
   "metadata": {
    "tags": []
   },
   "outputs": [
    {
     "data": {
      "text/plain": [
       "{'acceb': array([0., 0., 0., 0., 0., 0., 0., 0., 0., 0., 0., 1., 0., 0., 0., 0., 0.,\n",
       "        0., 0., 0., 0., 0., 0., 0., 0., 0., 0., 0.]),\n",
       " 'acced': array([    0.   ,     0.   ,     0.   ,     0.   ,     0.   ,     0.   ,\n",
       "            0.   ,     0.   ,     0.   ,     0.   ,     0.   , 17491.275,\n",
       "            0.   ,     0.   ,     0.   ,     0.   ,     0.   ,     0.   ,\n",
       "            0.   ,     0.   ,     0.   ,     0.   ,     0.   ,     0.   ,\n",
       "            0.   ,     0.   ,     0.   ,     0.   ]),\n",
       " 'dcceb': array([0., 0., 0., 0., 0., 0., 0., 0., 0., 0., 0., 0., 0., 0., 0., 0., 0.,\n",
       "        0., 0., 0., 0., 0., 0., 0., 0., 0., 0., 0.]),\n",
       " 'dcced': array([0., 0., 0., 0., 0., 0., 0., 0., 0., 0., 0., 0., 0., 0., 0., 0., 0.,\n",
       "        0., 0., 0., 0., 0., 0., 0., 0., 0., 0., 0.])}"
      ]
     },
     "execution_count": 327,
     "metadata": {},
     "output_type": "execute_result"
    }
   ],
   "source": [
    "#Extracting the solution values\n",
    "deep_reload(src)\n",
    "\n",
    "solution=src.bev_lp.Solution(problem)\n",
    "solution"
   ]
  },
  {
   "cell_type": "code",
   "execution_count": 100,
   "id": "72c5b81a-fcab-4a3b-baaa-1ae0f563e6cc",
   "metadata": {
    "tags": []
   },
   "outputs": [
    {
     "data": {
      "text/plain": [
       "0.0"
      ]
     },
     "execution_count": 100,
     "metadata": {},
     "output_type": "execute_result"
    },
    {
     "data": {
      "image/png": "[encoded data removed]",
      "text/plain": [
       "<Figure size 640x480 with 1 Axes>"
      ]
     },
     "metadata": {},
     "output_type": "display_data"
    }
   ],
   "source": [
    "soc=bev.initial_soc+(\n",
    "    -np.cumsum(bev.discharge_events)+\n",
    "    np.cumsum(solution['acced']*bev.destination_charger_power_array)+\n",
    "    np.cumsum(solution['dcced']*bev.en_route_charger_power))/bev.battery_capacity\n",
    "sic=(\n",
    "    sum(solution['acceb']*bev.is_other.astype(int)*bev.payment_penalty)+\n",
    "    sum(solution['dcceb']*(bev.payment_penalty+bev.travel_penalty))+\n",
    "    sum(solution['dcced']))\n",
    "plt.plot(soc)\n",
    "sic"
   ]
  },
  {
   "cell_type": "code",
   "execution_count": null,
   "id": "3fcdec63-ccc7-4c8d-b5ed-78ec898578b1",
   "metadata": {},
   "outputs": [],
   "source": []
  }
 ],
 "metadata": {
  "kernelspec": {
   "display_name": "Python 3 (ipykernel)",
   "language": "python",
   "name": "python3"
  },
  "language_info": {
   "codemirror_mode": {
    "name": "ipython",
    "version": 3
   },
   "file_extension": ".py",
   "mimetype": "text/x-python",
   "name": "python",
   "nbconvert_exporter": "python",
   "pygments_lexer": "ipython3",
   "version": "3.11.3"
  }
 },
 "nbformat": 4,
 "nbformat_minor": 5
}
