{
 "cells": [
  {
   "cell_type": "code",
   "execution_count": 2,
   "id": "b07dbcfe-16cf-48da-8f61-0e871ccaad68",
   "metadata": {},
   "outputs": [],
   "source": [
    "import warnings\n",
    "warnings.filterwarnings(\"ignore\")\n",
    "\n",
    "import os\n",
    "import time\n",
    "import numpy as np\n",
    "import pandas as pd\n",
    "import pickle as pkl\n",
    "import matplotlib.pyplot as plt\n",
    "\n",
    "import src\n",
    "from src.reload import deep_reload\n",
    "\n",
    "np.set_printoptions(suppress=True,precision=5)"
   ]
  },
  {
   "cell_type": "code",
   "execution_count": 4,
   "id": "e040c19c-7a1d-4b90-adad-ef07be70d06c",
   "metadata": {
    "tags": []
   },
   "outputs": [],
   "source": [
    "#Importing itineraries\n",
    "\n",
    "itineraries=pkl.load(open('Data/Generated_Data/itineraries.pkl','rb'))"
   ]
  },
  {
   "cell_type": "code",
   "execution_count": 196,
   "id": "f84803ba-3bdd-45b6-a332-70f03372cd80",
   "metadata": {
    "tags": []
   },
   "outputs": [
    {
     "name": "stdout",
     "output_type": "stream",
     "text": [
      "120493\n"
     ]
    }
   ],
   "source": [
    "#Test Simulation\n",
    "deep_reload(src)\n",
    "\n",
    "# n=np.random.randint(0,len(itineraries)-1)\n",
    "# n=146781\n",
    "# n=12453\n",
    "# n=142611\n",
    "print(n)\n",
    "\n",
    "bev=src.bev.Vehicle(\n",
    "    itineraries[n]['trips'],\n",
    "    # home_charger_power=0,\n",
    "    # work_charger_power=0,\n",
    "    # en_route_charger_power=0,\n",
    "    # destination_charger_likelihood=1,\n",
    "    bounds_violation_penalty=1e4,\n",
    "    initial_soc=.5,\n",
    "    final_soc=.5,\n",
    "    final_soc_penalty=1e3,\n",
    "    quanta_dc_charging=21,\n",
    "    quanta_ac_charging=21,\n",
    "    quanta_soc=21,\n",
    "    cost_multiplier=1,\n",
    "    time_multiplier=1,\n",
    "    tiles=7\n",
    "    )\n",
    "\n",
    "optimal_strategy,optimal_control,state_trace,cost_trace=bev.Solve()"
   ]
  },
  {
   "cell_type": "code",
   "execution_count": 197,
   "id": "d418fd50-33a0-4169-b82b-cfb1f4f07e59",
   "metadata": {
    "tags": []
   },
   "outputs": [
    {
     "data": {
      "text/plain": [
       "(array([0.5    , 0.49251, 0.56472, 0.52685, 0.48791, 0.47969, 0.45823,\n",
       "        0.44478, 0.40692, 0.36798, 0.35976, 0.3383 , 0.36039, 0.3529 ,\n",
       "        0.35857, 0.3207 , 0.28176, 0.27354, 0.25208, 0.29608, 0.25822,\n",
       "        0.21928, 0.21106, 0.1896 , 0.36243, 0.35494, 0.35832, 0.32046,\n",
       "        0.28152, 0.2733 , 0.25184, 0.28725, 0.24938, 0.21044, 0.20222,\n",
       "        0.18076, 0.36301, 0.35551, 0.35826, 0.32039, 0.28145, 0.27323,\n",
       "        0.25177, 0.28725, 0.24938, 0.21045, 0.20222, 0.18076, 0.25652,\n",
       "        0.24902, 0.25903, 0.22116, 0.18223, 0.174  , 0.15254, 0.17835,\n",
       "        0.23885, 0.19992, 0.19169, 0.17023, 0.36369, 0.3562 , 0.35817,\n",
       "        0.32031, 0.28137, 0.27315, 0.25169, 0.28725, 0.24939, 0.21045,\n",
       "        0.20223, 0.18077, 0.30976, 0.30227, 0.30864, 0.27077, 0.23184,\n",
       "        0.22361, 0.20216, 0.28521, 0.24735, 0.20841, 0.20019, 0.17873,\n",
       "        0.52287]),\n",
       " [array([   0.     ,    0.     , 1950.     ,    0.     ,    0.     ,\n",
       "            0.     ,    0.     ,  432.     ,    0.     ,    0.     ,\n",
       "            0.     ,    0.     , 1299.     ,    0.     ,  326.67877,\n",
       "            0.     ,    0.     ,    0.     ,    0.     , 1833.56434,\n",
       "            0.     ,    0.     ,    0.     ,    0.     , 4976.62553,\n",
       "            0.     ,  270.92088,    0.     ,    0.     ,    0.     ,\n",
       "            0.     , 1623.86434,    0.     ,    0.     ,    0.     ,\n",
       "            0.     , 5206.2493 ,    0.     ,  255.26152,    0.     ,\n",
       "            0.     ,    0.     ,    0.     , 1625.63367,    0.     ,\n",
       "            0.     ,    0.     ,    0.     , 2608.13857,    0.     ,\n",
       "          432.44163,    0.     ,    0.     ,    0.     ,    0.     ,\n",
       "         1389.61436, 2399.89747,    0.     ,    0.     ,    0.     ,\n",
       "         5479.76258,    0.     ,  236.60907,    0.     ,    0.     ,\n",
       "            0.     ,    0.     , 1627.74118,    0.     ,    0.     ,\n",
       "            0.     ,    0.     , 3907.00667,    0.     ,  343.86434,\n",
       "            0.     ,    0.     ,    0.     ,    0.     , 2786.35214,\n",
       "            0.     ,    0.     ,    0.     ,    0.     , 9156.05708]),\n",
       "  array([0., 0., 0., 0., 0., 0., 0., 0., 0., 0., 0., 0., 0., 0., 0., 0., 0.,\n",
       "         0., 0., 0., 0., 0., 0., 0., 0., 0., 0., 0., 0., 0., 0., 0., 0., 0.,\n",
       "         0., 0., 0., 0., 0., 0., 0., 0., 0., 0., 0., 0., 0., 0., 0., 0., 0.,\n",
       "         0., 0., 0., 0., 0., 0., 0., 0., 0., 0., 0., 0., 0., 0., 0., 0., 0.,\n",
       "         0., 0., 0., 0., 0., 0., 0., 0., 0., 0., 0., 0., 0., 0., 0., 0., 0.])],\n",
       " array([ 0.     ,  0.     ,  3.96527,  0.     ,  0.     ,  0.     ,\n",
       "         0.     ,  0.87846,  0.     ,  0.     ,  0.     ,  0.     ,\n",
       "         2.64148,  0.     ,  0.66429,  0.     ,  0.     ,  0.     ,\n",
       "         0.     ,  3.7285 ,  0.     ,  0.     ,  0.     ,  0.     ,\n",
       "        10.11983,  0.     ,  0.55091,  0.     ,  0.     ,  0.     ,\n",
       "         0.     ,  3.30208,  0.     ,  0.     ,  0.     ,  0.     ,\n",
       "        10.58676,  0.     ,  0.51907,  0.     ,  0.     ,  0.     ,\n",
       "         0.     ,  3.30568,  0.     ,  0.     ,  0.     ,  0.     ,\n",
       "         5.30358,  0.     ,  0.87936,  0.     ,  0.     ,  0.     ,\n",
       "         0.     ,  2.82574,  4.88012,  0.     ,  0.     ,  0.     ,\n",
       "        11.14294,  0.     ,  0.48114,  0.     ,  0.     ,  0.     ,\n",
       "         0.     ,  3.30997,  0.     ,  0.     ,  0.     ,  0.     ,\n",
       "         7.94479,  0.     ,  0.69924,  0.     ,  0.     ,  0.     ,\n",
       "         0.     ,  5.66597,  0.     ,  0.     ,  0.     ,  0.     ,\n",
       "        18.61859]),\n",
       " array([ 60.     , 102.01378]))"
      ]
     },
     "execution_count": 197,
     "metadata": {},
     "output_type": "execute_result"
    }
   ],
   "source": [
    "state_trace,optimal_control,cost_trace[1],cost_trace.sum(axis=1)"
   ]
  },
  {
   "cell_type": "code",
   "execution_count": 195,
   "id": "5cbed4f8-206a-49a9-b7e6-102d2255be88",
   "metadata": {
    "tags": []
   },
   "outputs": [
    {
     "data": {
      "text/plain": [
       "(array([0.5 , 0.45, 0.4 , 0.35, 0.3 , 0.25, 0.2 , 0.15, 0.1 , 0.1 , 0.05,\n",
       "        0.  , 0.  , 0.  , 0.  , 0.  , 0.  , 0.  , 0.  , 0.  , 0.  ]),\n",
       " array([0., 0., 0., 0., 0., 0., 0., 0., 0., 0., 0., 0., 0., 0., 0., 0., 0.,\n",
       "        0., 0., 0., 0.]))"
      ]
     },
     "execution_count": 195,
     "metadata": {},
     "output_type": "execute_result"
    }
   ],
   "source": [
    "optimal_strategy[0][-1],optimal_strategy[1][-1]"
   ]
  },
  {
   "cell_type": "code",
   "execution_count": 765,
   "id": "51b06a85-2d38-41fc-8d15-4ac73e38ada3",
   "metadata": {
    "tags": []
   },
   "outputs": [
    {
     "data": {
      "text/plain": [
       "9360.0"
      ]
     },
     "execution_count": 765,
     "metadata": {},
     "output_type": "execute_result"
    }
   ],
   "source": [
    "bev.dwells[-1]*.2"
   ]
  },
  {
   "cell_type": "code",
   "execution_count": 396,
   "id": "93a38ca6-6786-41c3-83c5-0aa2881acdf5",
   "metadata": {
    "tags": []
   },
   "outputs": [
    {
     "data": {
      "text/plain": [
       "0.0905"
      ]
     },
     "execution_count": 396,
     "metadata": {},
     "output_type": "execute_result"
    }
   ],
   "source": [
    "np.interp(.379,bev.x,optimal_strategy[0][-1])"
   ]
  },
  {
   "cell_type": "code",
   "execution_count": 345,
   "id": "6e3075aa-e747-45a9-9f67-1c12d23e38ad",
   "metadata": {
    "tags": []
   },
   "outputs": [
    {
     "data": {
      "text/plain": [
       "(array([0. , 0.1, 0.2, 0.3, 0.4, 0.5, 0.6, 0.7, 0.8, 0.9, 1. ]),\n",
       " array([0.  , 0.02, 0.04, 0.06, 0.08, 0.1 , 0.12, 0.14, 0.16, 0.18, 0.2 ,\n",
       "        0.22, 0.24, 0.26, 0.28, 0.3 , 0.32, 0.34, 0.36, 0.38, 0.4 , 0.42,\n",
       "        0.44, 0.46, 0.48, 0.5 , 0.52, 0.54, 0.56, 0.58, 0.6 , 0.62, 0.64,\n",
       "        0.66, 0.68, 0.7 , 0.72, 0.74, 0.76, 0.78, 0.8 , 0.82, 0.84, 0.86,\n",
       "        0.88, 0.9 , 0.92, 0.94, 0.96, 0.98, 1.  ]),\n",
       " array([0. , 0.1, 0.2, 0.3, 0.4, 0.5, 0.6, 0.7, 0.8, 0.9, 1. ]))"
      ]
     },
     "execution_count": 345,
     "metadata": {},
     "output_type": "execute_result"
    }
   ],
   "source": [
    "bev.x,bev.u1,bev.u2"
   ]
  },
  {
   "cell_type": "code",
   "execution_count": 458,
   "id": "78a6c6f0-fb81-4542-a3c2-2e781c48862c",
   "metadata": {
    "tags": []
   },
   "outputs": [
    {
     "data": {
      "text/plain": [
       "array([0.  , 0.1 , 0.05, 0.05, 0.05, 0.05, 0.1 , 0.05, 0.05, 0.05, 0.05,\n",
       "       0.1 , 0.  , 0.1 , 0.05, 0.05, 0.05, 0.05, 0.1 , 0.05, 0.05, 0.05,\n",
       "       0.05, 0.1 , 0.  , 0.1 , 0.05, 0.05, 0.05, 0.05, 0.1 , 0.05, 0.05,\n",
       "       0.05, 0.05, 0.1 , 0.  , 0.1 , 0.05, 0.05, 0.05, 0.05, 0.1 , 0.05,\n",
       "       0.05, 0.05, 0.05, 0.1 , 0.  , 0.1 , 0.05, 0.05, 0.05, 0.05, 0.1 ,\n",
       "       0.05, 0.05, 0.05, 0.05, 0.1 , 0.  , 0.1 , 0.05, 0.05, 0.05, 0.05,\n",
       "       0.1 , 0.05, 0.05, 0.05, 0.05, 0.1 , 0.  , 0.1 , 0.05, 0.05, 0.05,\n",
       "       0.05, 0.1 , 0.05, 0.05, 0.05, 0.05, 0.1 ])"
      ]
     },
     "execution_count": 458,
     "metadata": {},
     "output_type": "execute_result"
    }
   ],
   "source": [
    "bev.destination_charger_availability"
   ]
  },
  {
   "cell_type": "code",
   "execution_count": 522,
   "id": "5ce56815-c03a-40e6-a56f-f891a6d3d99e",
   "metadata": {
    "tags": []
   },
   "outputs": [
    {
     "name": "stdout",
     "output_type": "stream",
     "text": [
      "120493\n",
      "[2465.40427   71.44962]\n"
     ]
    }
   ],
   "source": [
    "#Test Simulation\n",
    "deep_reload(src)\n",
    "\n",
    "# n=np.random.randint(0,len(itineraries)-1)\n",
    "# n=146781\n",
    "# n=12453\n",
    "print(n)\n",
    "\n",
    "bev=src.bev_s.Vehicle(\n",
    "    itineraries[n]['trips'],\n",
    "    home_charger_likelihood=.1,\n",
    "    work_charger_likelihood=0,\n",
    "    # home_charger_power=0,\n",
    "    # work_charger_power=0,\n",
    "    # en_route_charger_power=0,\n",
    "    # destination_charger_likelihood=0,\n",
    "    bounds_violation_penalty=1e4,\n",
    "    initial_soc=.5,\n",
    "    final_soc=.5,\n",
    "    final_soc_penalty=1e3,\n",
    "    quanta_dc_charging=21,\n",
    "    quanta_ac_charging=21,\n",
    "    quanta_soc=21,\n",
    "    cost_multiplier=0,\n",
    "    time_multiplier=1,\n",
    "    tiles=7\n",
    "    )\n",
    "\n",
    "optimal_strategy,optimal_control,state_trace,cost_trace=bev.Solve()\n",
    "s=itineraries[n]['trips'].shape[0]\n",
    "print(cost_trace[:,:5*s].sum(axis=1))"
   ]
  },
  {
   "cell_type": "code",
   "execution_count": 523,
   "id": "e5fd96c5-0d6b-43b4-aeb1-6d99e13cd629",
   "metadata": {
    "tags": []
   },
   "outputs": [
    {
     "data": {
      "text/plain": [
       "(array([0.5    , 0.49251, 0.48479, 0.44692, 0.40799, 0.49813, 0.47668,\n",
       "        0.44552, 0.40765, 0.36872, 0.36049, 0.33904, 0.30788, 0.30039,\n",
       "        0.29267, 0.2548 , 0.21587, 0.30602, 0.28456, 0.43048, 0.39261,\n",
       "        0.35368, 0.34545, 0.32399, 0.29284, 0.28535, 0.27762, 0.23976,\n",
       "        0.20082, 0.1926 , 0.17114, 0.13999, 0.10212, 0.65584, 0.64762,\n",
       "        0.62616, 0.59501, 0.58751, 0.57979, 0.54193, 0.50299, 0.59314,\n",
       "        0.57168, 0.54053, 0.50266, 0.46373, 0.4555 , 0.43404, 0.40289,\n",
       "        0.3954 , 0.54753, 0.50967, 0.47073, 0.46251, 0.44105, 0.40989,\n",
       "        0.37203, 0.33309, 0.32487, 0.30341, 0.27225, 0.26476, 0.25704,\n",
       "        0.21917, 0.18024, 0.17201, 0.15056, 0.29648, 0.25861, 0.21967,\n",
       "        0.21145, 0.18999, 0.15884, 0.15134, 0.14362, 0.10576, 0.28046,\n",
       "        0.27224, 0.25078, 0.21963, 0.18176, 0.14282, 0.1346 , 0.11314,\n",
       "        0.13998]),\n",
       " [array([   0.,    0.,    0.,    0.,    0., 2400.,    0.,    0.,    0.,\n",
       "            0.,    0.,    0.,    0.,    0.,    0.,    0.,    0., 2400.,\n",
       "            0., 4320.,    0.,    0.,    0.,    0.,    0.,    0.,    0.,\n",
       "            0.,    0.,    0.,    0.,    0.,    0.,    0.,    0.,    0.,\n",
       "            0.,    0.,    0.,    0.,    0., 2400.,    0.,    0.,    0.,\n",
       "            0.,    0.,    0.,    0.,    0., 3900.,    0.,    0.,    0.,\n",
       "            0.,    0.,    0.,    0.,    0.,    0.,    0.,    0.,    0.,\n",
       "            0.,    0.,    0.,    0., 4320.,    0.,    0.,    0.,    0.,\n",
       "            0.,    0.,    0.,    0.,    0.,    0.,    0.,    0.,    0.,\n",
       "            0.,    0.,    0.,    0.]),\n",
       "  array([   0.     ,    0.     ,    0.     ,    0.     ,    0.     ,\n",
       "            0.     ,    0.     ,    0.     ,    0.     ,    0.     ,\n",
       "            0.     ,    0.     ,    0.     ,    0.     ,    0.     ,\n",
       "            0.     ,    0.     ,    0.     ,    0.     ,    0.     ,\n",
       "            0.     ,    0.     ,    0.     ,    0.     ,    0.     ,\n",
       "            0.     ,    0.     ,    0.     ,    0.     ,    0.     ,\n",
       "            0.     ,    0.     ,    0.     , 1325.40427,    0.     ,\n",
       "            0.     ,    0.     ,    0.     ,    0.     ,    0.     ,\n",
       "            0.     ,    0.     ,    0.     ,    0.     ,    0.     ,\n",
       "            0.     ,    0.     ,    0.     ,    0.     ,    0.     ,\n",
       "            0.     ,    0.     ,    0.     ,    0.     ,    0.     ,\n",
       "            0.     ,    0.     ,    0.     ,    0.     ,    0.     ,\n",
       "            0.     ,    0.     ,    0.     ,    0.     ,    0.     ,\n",
       "            0.     ,    0.     ,    0.     ,    0.     ,    0.     ,\n",
       "            0.     ,    0.     ,    0.     ,    0.     ,    0.     ,\n",
       "            0.     ,  477.78077,    0.     ,    0.     ,    0.     ,\n",
       "            0.     ,    0.     ,    0.     ,    0.     ,  129.70503])])"
      ]
     },
     "execution_count": 523,
     "metadata": {},
     "output_type": "execute_result"
    }
   ],
   "source": [
    "state_trace,optimal_control"
   ]
  },
  {
   "cell_type": "code",
   "execution_count": 202,
   "id": "3ef3133b-829a-46a6-a387-2f91c51a8938",
   "metadata": {
    "tags": []
   },
   "outputs": [
    {
     "data": {
      "text/plain": [
       "(array([0.35, 0.3 , 0.4 , 0.35, 0.3 , 0.25, 0.2 , 0.15, 0.1 , 0.1 , 0.05,\n",
       "        0.  , 0.  , 0.  , 0.  , 0.  , 0.  , 0.  , 0.  , 0.  , 0.  ]),\n",
       " array([0.05, 0.05, 0.  , 0.  , 0.  , 0.  , 0.  , 0.  , 0.  , 0.  , 0.  ,\n",
       "        0.  , 0.  , 0.  , 0.  , 0.  , 0.  , 0.  , 0.  , 0.  , 0.  ]))"
      ]
     },
     "execution_count": 202,
     "metadata": {},
     "output_type": "execute_result"
    }
   ],
   "source": [
    "optimal_strategy[0][-1],optimal_strategy[1][-1]"
   ]
  },
  {
   "cell_type": "code",
   "execution_count": 163,
   "id": "69d21bbe-3167-4ce9-91be-7b955d094e2c",
   "metadata": {
    "tags": []
   },
   "outputs": [
    {
     "data": {
      "text/plain": [
       "(array([0.5    , 0.49836, 0.49672, 0.4928 , 0.47692, 0.4747 , 0.47414,\n",
       "        0.4588 , 0.44926, 0.44683, 1.74952, 1.74788, 1.94299, 1.93907,\n",
       "        1.92319, 1.92097, 1.92041, 1.90507, 1.89553, 1.8931 , 2.68753,\n",
       "        2.68588, 2.88099, 2.87707, 2.86119, 2.85898, 2.85841, 2.84307,\n",
       "        2.83353, 2.8311 , 3.62553, 3.62389, 3.819  , 3.81507, 3.7992 ,\n",
       "        3.79698, 3.79642, 3.78108, 3.77154, 3.76911, 4.56354, 4.56189,\n",
       "        4.757  , 4.75308, 4.7372 , 4.73499, 4.73442, 4.71908, 4.70954,\n",
       "        4.70711, 5.50154, 5.4999 , 5.695  , 5.69108, 5.67521, 5.67299,\n",
       "        5.67243, 5.65709, 5.72133, 5.7189 , 6.51333, 6.51168, 6.70679,\n",
       "        6.70287, 6.68699, 6.68478, 6.68421, 6.66887, 6.73311, 6.73068,\n",
       "        6.72828]),\n",
       " [array([    0.,     0.,     0.,     0.,     0.,     0.,     0.,     0.,\n",
       "             0.,     0., 19440.,     0.,  4800.,     0.,     0.,     0.,\n",
       "             0.,     0.,     0.,     0., 19440.,     0.,  4800.,     0.,\n",
       "             0.,     0.,     0.,     0.,     0.,     0., 19440.,     0.,\n",
       "          4800.,     0.,     0.,     0.,     0.,     0.,     0.,     0.,\n",
       "         19440.,     0.,  4800.,     0.,     0.,     0.,     0.,     0.,\n",
       "             0.,     0., 19440.,     0.,  4800.,     0.,     0.,     0.,\n",
       "             0.,     0.,  1800.,     0., 19440.,     0.,  4800.,     0.,\n",
       "             0.,     0.,     0.,     0.,  1800.,     0.,     0.]),\n",
       "  array([   0.,    0.,    0.,    0.,    0.,    0.,    0.,    0.,    0.,\n",
       "            0., 1440.,    0.,    0.,    0.,    0.,    0.,    0.,    0.,\n",
       "            0.,    0.,    0.,    0.,    0.,    0.,    0.,    0.,    0.,\n",
       "            0.,    0.,    0.,    0.,    0.,    0.,    0.,    0.,    0.,\n",
       "            0.,    0.,    0.,    0.,    0.,    0.,    0.,    0.,    0.,\n",
       "            0.,    0.,    0.,    0.,    0.,    0.,    0.,    0.,    0.,\n",
       "            0.,    0.,    0.,    0.,    0.,    0.,    0.,    0.,    0.,\n",
       "            0.,    0.,    0.,    0.,    0.,    0.,    0.,    0.])],\n",
       " array([2400.     ,  358.74884]))"
      ]
     },
     "execution_count": 163,
     "metadata": {},
     "output_type": "execute_result"
    }
   ],
   "source": [
    "state_trace,optimal_control,cost_trace.sum(axis=1)"
   ]
  },
  {
   "cell_type": "code",
   "execution_count": 272,
   "id": "7a6455e1-44fb-48c4-992e-0e3a07c16b53",
   "metadata": {
    "tags": []
   },
   "outputs": [
    {
     "name": "stdout",
     "output_type": "stream",
     "text": [
      "0.667741060256958\n",
      "[ 0.      45.41443 45.41443 45.41443 45.41443 45.41443 45.23599 45.23599\n",
      " 45.19229 42.59823 40.12944 39.6036  30.36184 30.02455 30.02455 29.66927\n",
      " 29.66927 29.32204 29.33362 29.33246]\n"
     ]
    }
   ],
   "source": [
    "deep_reload(src)\n",
    "def ChargeCost(itin,hc):\n",
    "    \n",
    "    bev=src.bev_s.Vehicle(\n",
    "        itin,\n",
    "        home_charger_likelihood=hc,\n",
    "        # home_charger_power=0,\n",
    "        work_charger_power=0,\n",
    "        en_route_charger_power=0,\n",
    "        destination_charger_likelihood=0,\n",
    "        final_soc_penalty=1e10,\n",
    "        quanta_dc_charging=11,\n",
    "        quanta_ac_charging=11,\n",
    "        quanta_soc=11,\n",
    "        )\n",
    "\n",
    "    optimal_strategy,optimal_control,state_trace,cost_trace=bev.Solve()\n",
    "    \n",
    "    return cost_trace.sum(axis=1)\n",
    "m=20\n",
    "hc=np.linspace(0,1,m)\n",
    "tc=np.zeros((10,m))\n",
    "cc=np.zeros((10,m))\n",
    "\n",
    "t0=time.time()\n",
    "for idx in range(10):\n",
    "    for idx1 in range(m):\n",
    "        tc[idx,idx1],cc[idx,idx1]=ChargeCost(itineraries[n]['trips'],hc[idx1])\n",
    "print(time.time()-t0)\n",
    "print(cc.mean(axis=0))"
   ]
  },
  {
   "cell_type": "code",
   "execution_count": 588,
   "id": "aea2ad98-f1fe-4374-b80f-a00bacd3cb09",
   "metadata": {
    "tags": []
   },
   "outputs": [
    {
     "name": "stdout",
     "output_type": "stream",
     "text": [
      "[0. 0. 0. 0. 0. 0. 0. 0. 0. 0. 0. 0. 0. 0. 0. 0. 0. 0. 0. 0.]\n"
     ]
    }
   ],
   "source": [
    "print(tc.mean(axis=0))"
   ]
  },
  {
   "cell_type": "code",
   "execution_count": null,
   "id": "996b2dfe-f681-45a8-b857-f7aa24cad2cb",
   "metadata": {},
   "outputs": [],
   "source": []
  }
 ],
 "metadata": {
  "kernelspec": {
   "display_name": "Python 3 (ipykernel)",
   "language": "python",
   "name": "python3"
  },
  "language_info": {
   "codemirror_mode": {
    "name": "ipython",
    "version": 3
   },
   "file_extension": ".py",
   "mimetype": "text/x-python",
   "name": "python",
   "nbconvert_exporter": "python",
   "pygments_lexer": "ipython3",
   "version": "3.11.3"
  }
 },
 "nbformat": 4,
 "nbformat_minor": 5
}
