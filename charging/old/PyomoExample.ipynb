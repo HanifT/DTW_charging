{
 "cells": [
  {
   "cell_type": "code",
   "execution_count": 27,
   "id": "7ac97a12-bfa3-4893-a897-0768ce772ebb",
   "metadata": {},
   "outputs": [],
   "source": [
    "import matplotlib.pyplot as plt\n",
    "import numpy as np\n",
    "import pandas as pd\n",
    "\n",
    "import shutil\n",
    "import sys\n",
    "import os.path\n",
    "\n",
    "if not shutil.which(\"pyomo\"):\n",
    "    !pip install -q pyomo\n",
    "    assert(shutil.which(\"pyomo\"))\n",
    "\n",
    "if not (shutil.which(\"cbc\") or os.path.isfile(\"cbc\")):\n",
    "    if \"google.colab\" in sys.modules:\n",
    "        !apt-get install -y -qq coinor-cbc\n",
    "    else:\n",
    "        try:\n",
    "            !conda install -c conda-forge coincbc \n",
    "        except:\n",
    "            pass\n",
    "\n",
    "assert(shutil.which(\"cbc\") or os.path.isfile(\"cbc\"))\n",
    "\n",
    "import pyomo.environ as pyomo"
   ]
  },
  {
   "cell_type": "code",
   "execution_count": 28,
   "id": "ed99b10b-9581-4eaa-8264-b66a20a914e5",
   "metadata": {
    "tags": []
   },
   "outputs": [
    {
     "data": {
      "text/plain": [
       "(True, '/home/aaron/anaconda3/bin/cbc')"
      ]
     },
     "execution_count": 28,
     "metadata": {},
     "output_type": "execute_result"
    }
   ],
   "source": [
    "os.path.isfile(\"cbc\"),shutil.which(\"cbc\")"
   ]
  },
  {
   "cell_type": "code",
   "execution_count": 29,
   "id": "c011f964-ba84-47e1-81d4-5b30cf406d38",
   "metadata": {
    "tags": []
   },
   "outputs": [],
   "source": [
    "data = {\n",
    "    'A': {'abv': 0.045, 'cost': 0.32},\n",
    "    'B': {'abv': 0.037, 'cost': 0.25},\n",
    "    'W': {'abv': 0.000, 'cost': 0.05},\n",
    "}"
   ]
  },
  {
   "cell_type": "code",
   "execution_count": 40,
   "id": "8d3b5b52-b104-461d-b3ba-d2169a9340bd",
   "metadata": {
    "tags": []
   },
   "outputs": [
    {
     "data": {
      "text/plain": [
       "['/home/aaron/Desktop/VOIC',\n",
       " '/home/aaron/anaconda3/lib/python311.zip',\n",
       " '/home/aaron/anaconda3/lib/python3.11',\n",
       " '/home/aaron/anaconda3/lib/python3.11/lib-dynload',\n",
       " '',\n",
       " '/home/aaron/anaconda3/lib/python3.11/site-packages',\n",
       " '/home/aaron/anaconda3/bin/',\n",
       " '/home/aaron/anaconda3/bin/']"
      ]
     },
     "execution_count": 40,
     "metadata": {},
     "output_type": "execute_result"
    }
   ],
   "source": [
    "sys.path"
   ]
  },
  {
   "cell_type": "code",
   "execution_count": 39,
   "id": "e955e20a-c917-4142-b9fc-a1acdb89add9",
   "metadata": {
    "tags": []
   },
   "outputs": [
    {
     "name": "stdout",
     "output_type": "stream",
     "text": [
      "Solver log file: '/tmp/tmpwywuxqh0.cbc.log'\n",
      "Solver solution file: '/tmp/tmpcvhgujyh.pyomo.soln'\n",
      "Solver problem files: ('/tmp/tmpcvhgujyh.pyomo.lp',)\n",
      "Welcome to the CBC MILP Solver \n",
      "Version: 2.10.3 \n",
      "Build Date: Mar 24 2020 \n",
      "\n",
      "command line - /home/aaron/Desktop/VOIC/cbc -printingOptions all -import /tmp/tmpcvhgujyh.pyomo.lp -stat=1 -solve -solu /tmp/tmpcvhgujyh.pyomo.soln (default strategy 1)\n",
      "Option for printingOptions changed from normal to all\n",
      "Presolve 0 (-2) rows, 0 (-3) columns and 0 (-6) elements\n",
      "Statistics for presolved model\n",
      "\n",
      "\n",
      "Problem has 0 rows, 0 columns (0 with objective) and 0 elements\n",
      "There are 22088 singletons with no objective \n",
      "Column breakdown:\n",
      "0 of type 0.0->inf, 0 of type 0.0->up, 0 of type lo->inf, \n",
      "0 of type lo->up, 0 of type free, 0 of type fixed, \n",
      "0 of type -inf->0.0, 0 of type -inf->up, 0 of type 0.0->1.0 \n",
      "Row breakdown:\n",
      "0 of type E 0.0, 0 of type E 1.0, 0 of type E -1.0, \n",
      "0 of type E other, 0 of type G 0.0, 0 of type G 1.0, \n",
      "0 of type G other, 0 of type L 0.0, 0 of type L 1.0, \n",
      "0 of type L other, 0 of type Range 0.0->1.0, 0 of type Range other, \n",
      "0 of type Free \n",
      "Presolve 0 (-2) rows, 0 (-3) columns and 0 (-6) elements\n",
      "Empty problem - 0 rows, 0 columns and 0 elements\n",
      "Optimal - objective value 27.625\n",
      "After Postsolve, objective 27.625, infeasibilities - dual 0 (0), primal 0 (0)\n",
      "Optimal objective 27.625 - 0 iterations time 0.002, Presolve 0.00\n",
      "Total time (CPU seconds):       0.00   (Wallclock seconds):       0.00\n",
      "\n",
      "Optimal Blend\n",
      "   A : 37.5 gallons\n",
      "   B : 62.5 gallons\n",
      "   W : 0.0 gallons\n",
      "\n",
      "Volume =  100.0 gallons\n",
      "Cost = $ 27.625\n"
     ]
    }
   ],
   "source": [
    "vol = 100\n",
    "abv = 0.040\n",
    "\n",
    "solvername='cbc'\n",
    "solverpath='/home/aaron/Desktop/VOIC/cbc'\n",
    "solverpath_folder='/home/aaron/anaconda3/bin/'\n",
    "\n",
    "sys.path.append(solverpath_folder)\n",
    "\n",
    "def beer_blend(vol, abv, data):\n",
    "    C = data.keys()\n",
    "    model = pyomo.ConcreteModel()\n",
    "    model.x = pyomo.Var(C, domain=pyomo.NonNegativeReals)\n",
    "    model.cost = pyomo.Objective(expr = sum(model.x[c]*data[c]['cost'] for c in C))\n",
    "    model.vol = pyomo.Constraint(expr = vol == sum(model.x[c] for c in C))\n",
    "    model.abv = pyomo.Constraint(\n",
    "        expr = 0 == sum(model.x[c]*(data[c]['abv'] - abv) for c in C))\n",
    "\n",
    "    solver = pyomo.SolverFactory(solvername,executable=solverpath)\n",
    "    # solver = pyomo.SolverFactory('cbc')\n",
    "    solver.solve(model,tee=True,keepfiles=True)\n",
    "\n",
    "    print('Optimal Blend')\n",
    "    for c in data.keys():\n",
    "        print('  ', c, ':', model.x[c](), 'gallons')\n",
    "    print()\n",
    "    print('Volume = ', model.vol(), 'gallons')\n",
    "    print('Cost = $', model.cost())\n",
    "    \n",
    "beer_blend(vol, abv, data)"
   ]
  },
  {
   "cell_type": "code",
   "execution_count": 35,
   "id": "f4cad860-58cc-4d15-9ed7-39e40561bd56",
   "metadata": {
    "tags": []
   },
   "outputs": [
    {
     "data": {
      "text/plain": [
       "Text(0.5, 1.0, 'Demand')"
      ]
     },
     "execution_count": 35,
     "metadata": {},
     "output_type": "execute_result"
    },
    {
     "data": {
      "image/png": "[encoded data removed]",
      "text/plain": [
       "<Figure size 640x480 with 1 Axes>"
      ]
     },
     "metadata": {},
     "output_type": "display_data"
    }
   ],
   "source": [
    "# demand\n",
    "T = 20\n",
    "T = np.array([t for t in range(0, T)])\n",
    "d = np.array([100 + 100*np.random.uniform() for t in T])\n",
    "\n",
    "fig, ax = plt.subplots(1,1)\n",
    "ax.bar(T+1, d)\n",
    "ax.set_xlabel('Time Period')\n",
    "ax.set_title('Demand')"
   ]
  },
  {
   "cell_type": "code",
   "execution_count": 36,
   "id": "f26001ea-25dd-4dc2-a60b-2210a29d14e8",
   "metadata": {
    "tags": []
   },
   "outputs": [
    {
     "data": {
      "image/png": "[encoded data removed]",
      "text/plain": [
       "<Figure size 640x480 with 1 Axes>"
      ]
     },
     "metadata": {},
     "output_type": "display_data"
    }
   ],
   "source": [
    "# generating units\n",
    "N = 5\n",
    "pmax = 2*max(d)/N\n",
    "pmin = 0.6*pmax\n",
    "\n",
    "N = np.array([n for n in range(0, N)])\n",
    "a = np.array([0.5 + 0.2*np.random.randn() for n in N])\n",
    "b = np.array([10*np.random.uniform() for n in N])\n",
    "\n",
    "p = np.linspace(pmin, pmax)\n",
    "\n",
    "fig, ax = plt.subplots(1,1)\n",
    "for n in N:\n",
    "    ax.plot(p, a[n]*p + b[n])\n",
    "ax.set_xlim(0, pmax)\n",
    "ax.set_ylim(0, max(a*pmax + b))\n",
    "ax.set_xlabel('Unit Production')\n",
    "ax.set_ylabel('Unit Operating Cost')\n",
    "ax.grid()"
   ]
  },
  {
   "cell_type": "code",
   "execution_count": 43,
   "id": "52f54e28-dee9-44bc-a57a-be440167a0d6",
   "metadata": {
    "tags": []
   },
   "outputs": [
    {
     "name": "stdout",
     "output_type": "stream",
     "text": [
      "WARNING: Failed to create solver with name 'bonmin': Failed to set executable\n",
      "for solver asl. File with name=bonmin either does not exist or it is not\n",
      "executable. To skip this validation, call set_executable with validate=False.\n",
      "Traceback (most recent call last):\n",
      "  File \"/home/aaron/anaconda3/lib/python3.11/site-packages/pyomo/opt/base/solvers.py\", line 165, in __call__\n",
      "    opt = self._cls[_implicit_solvers[mode]](**kwds)\n",
      "          ^^^^^^^^^^^^^^^^^^^^^^^^^^^^^^^^^^^^^^^^^^\n",
      "  File \"/home/aaron/anaconda3/lib/python3.11/site-packages/pyomo/solvers/plugins/solvers/ASL.py\", line 45, in __init__\n",
      "    SystemCallSolver.__init__(self, **kwds)\n",
      "  File \"/home/aaron/anaconda3/lib/python3.11/site-packages/pyomo/opt/solver/shellcmd.py\", line 67, in __init__\n",
      "    self.set_executable(name=executable, validate=validate)\n",
      "  File \"/home/aaron/anaconda3/lib/python3.11/site-packages/pyomo/opt/solver/shellcmd.py\", line 116, in set_executable\n",
      "    raise ValueError(\n",
      "ValueError: Failed to set executable for solver asl. File with name=bonmin either does not exist or it is not executable. To skip this validation, call set_executable with validate=False.\n"
     ]
    },
    {
     "ename": "RuntimeError",
     "evalue": "Attempting to use an unavailable solver.\n\nThe SolverFactory was unable to create the solver \"bonmin\"\nand returned an UnknownSolver object.  This error is raised at the point\nwhere the UnknownSolver object was used as if it were valid (by calling\nmethod \"solve\").\n\nThe original solver was created with the following parameters:\n\texecutable: bonmin\n\ttype: bonmin\n\t_args: ()\n\toptions: {}",
     "output_type": "error",
     "traceback": [
      "\u001B[0;31m---------------------------------------------------------------------------\u001B[0m",
      "\u001B[0;31mRuntimeError\u001B[0m                              Traceback (most recent call last)",
      "Cell \u001B[0;32mIn[43], line 29\u001B[0m\n\u001B[1;32m     27\u001B[0m solver\u001B[38;5;241m=\u001B[39mpyomo\u001B[38;5;241m.\u001B[39mSolverFactory(\u001B[38;5;124m'\u001B[39m\u001B[38;5;124mbonmin\u001B[39m\u001B[38;5;124m'\u001B[39m)\n\u001B[1;32m     28\u001B[0m \u001B[38;5;66;03m# solver = pyomo.SolverFactory(solvername,executable=solverpath)\u001B[39;00m\n\u001B[0;32m---> 29\u001B[0m solver\u001B[38;5;241m.\u001B[39msolve(m,tee\u001B[38;5;241m=\u001B[39m\u001B[38;5;28;01mTrue\u001B[39;00m,keepfiles\u001B[38;5;241m=\u001B[39m\u001B[38;5;28;01mTrue\u001B[39;00m)\u001B[38;5;241m.\u001B[39mwrite()\n\u001B[1;32m     31\u001B[0m fig, ax \u001B[38;5;241m=\u001B[39m plt\u001B[38;5;241m.\u001B[39msubplots(\u001B[38;5;28mmax\u001B[39m(N)\u001B[38;5;241m+\u001B[39m\u001B[38;5;241m1\u001B[39m, \u001B[38;5;241m1\u001B[39m, figsize\u001B[38;5;241m=\u001B[39m(\u001B[38;5;241m8\u001B[39m, \u001B[38;5;241m1.5\u001B[39m\u001B[38;5;241m*\u001B[39m\u001B[38;5;28mmax\u001B[39m(N)\u001B[38;5;241m+\u001B[39m\u001B[38;5;241m1\u001B[39m))\n\u001B[1;32m     32\u001B[0m \u001B[38;5;28;01mfor\u001B[39;00m n \u001B[38;5;129;01min\u001B[39;00m N:\n",
      "File \u001B[0;32m~/anaconda3/lib/python3.11/site-packages/pyomo/opt/base/solvers.py:102\u001B[0m, in \u001B[0;36mUnknownSolver.solve\u001B[0;34m(self, *args, **kwds)\u001B[0m\n\u001B[1;32m    100\u001B[0m \u001B[38;5;28;01mdef\u001B[39;00m \u001B[38;5;21msolve\u001B[39m(\u001B[38;5;28mself\u001B[39m, \u001B[38;5;241m*\u001B[39margs, \u001B[38;5;241m*\u001B[39m\u001B[38;5;241m*\u001B[39mkwds):\n\u001B[1;32m    101\u001B[0m \u001B[38;5;250m    \u001B[39m\u001B[38;5;124;03m\"\"\"Perform optimization and return an SolverResults object.\"\"\"\u001B[39;00m\n\u001B[0;32m--> 102\u001B[0m     \u001B[38;5;28mself\u001B[39m\u001B[38;5;241m.\u001B[39m_solver_error(\u001B[38;5;124m'\u001B[39m\u001B[38;5;124msolve\u001B[39m\u001B[38;5;124m'\u001B[39m)\n",
      "File \u001B[0;32m~/anaconda3/lib/python3.11/site-packages/pyomo/opt/base/solvers.py:119\u001B[0m, in \u001B[0;36mUnknownSolver._solver_error\u001B[0;34m(self, method_name)\u001B[0m\n\u001B[1;32m    118\u001B[0m     \u001B[38;5;28;01mdef\u001B[39;00m \u001B[38;5;21m_solver_error\u001B[39m(\u001B[38;5;28mself\u001B[39m, method_name):\n\u001B[0;32m--> 119\u001B[0m         \u001B[38;5;28;01mraise\u001B[39;00m \u001B[38;5;167;01mRuntimeError\u001B[39;00m(\n\u001B[1;32m    120\u001B[0m \u001B[38;5;250m            \u001B[39m\u001B[38;5;124;03m\"\"\"Attempting to use an unavailable solver.\u001B[39;00m\n\u001B[1;32m    121\u001B[0m \n\u001B[1;32m    122\u001B[0m \u001B[38;5;124;03mThe SolverFactory was unable to create the solver \"%s\"\u001B[39;00m\n\u001B[1;32m    123\u001B[0m \u001B[38;5;124;03mand returned an UnknownSolver object.  This error is raised at the point\u001B[39;00m\n\u001B[1;32m    124\u001B[0m \u001B[38;5;124;03mwhere the UnknownSolver object was used as if it were valid (by calling\u001B[39;00m\n\u001B[1;32m    125\u001B[0m \u001B[38;5;124;03mmethod \"%s\").\u001B[39;00m\n\u001B[1;32m    126\u001B[0m \n\u001B[1;32m    127\u001B[0m \u001B[38;5;124;03mThe original solver was created with the following parameters:\u001B[39;00m\n\u001B[1;32m    128\u001B[0m \u001B[38;5;124;03m\\t\"\"\"\u001B[39;00m\n\u001B[1;32m    129\u001B[0m             \u001B[38;5;241m%\u001B[39m (\u001B[38;5;28mself\u001B[39m\u001B[38;5;241m.\u001B[39mtype, method_name)\n\u001B[1;32m    130\u001B[0m             \u001B[38;5;241m+\u001B[39m \u001B[38;5;124m\"\u001B[39m\u001B[38;5;130;01m\\n\u001B[39;00m\u001B[38;5;130;01m\\t\u001B[39;00m\u001B[38;5;124m\"\u001B[39m\u001B[38;5;241m.\u001B[39mjoin(\u001B[38;5;124m\"\u001B[39m\u001B[38;5;132;01m%s\u001B[39;00m\u001B[38;5;124m: \u001B[39m\u001B[38;5;132;01m%s\u001B[39;00m\u001B[38;5;124m\"\u001B[39m \u001B[38;5;241m%\u001B[39m i \u001B[38;5;28;01mfor\u001B[39;00m i \u001B[38;5;129;01min\u001B[39;00m \u001B[38;5;28msorted\u001B[39m(\u001B[38;5;28mself\u001B[39m\u001B[38;5;241m.\u001B[39m_kwds\u001B[38;5;241m.\u001B[39mitems()))\n\u001B[1;32m    131\u001B[0m             \u001B[38;5;241m+\u001B[39m \u001B[38;5;124m\"\u001B[39m\u001B[38;5;130;01m\\n\u001B[39;00m\u001B[38;5;130;01m\\t\u001B[39;00m\u001B[38;5;124m_args: \u001B[39m\u001B[38;5;132;01m%s\u001B[39;00m\u001B[38;5;124m\"\u001B[39m \u001B[38;5;241m%\u001B[39m (\u001B[38;5;28mself\u001B[39m\u001B[38;5;241m.\u001B[39m_args,)\n\u001B[1;32m    132\u001B[0m             \u001B[38;5;241m+\u001B[39m \u001B[38;5;124m\"\u001B[39m\u001B[38;5;130;01m\\n\u001B[39;00m\u001B[38;5;130;01m\\t\u001B[39;00m\u001B[38;5;124moptions: \u001B[39m\u001B[38;5;132;01m%s\u001B[39;00m\u001B[38;5;124m\"\u001B[39m \u001B[38;5;241m%\u001B[39m (\u001B[38;5;28mself\u001B[39m\u001B[38;5;241m.\u001B[39moptions,)\n\u001B[1;32m    133\u001B[0m         )\n",
      "\u001B[0;31mRuntimeError\u001B[0m: Attempting to use an unavailable solver.\n\nThe SolverFactory was unable to create the solver \"bonmin\"\nand returned an UnknownSolver object.  This error is raised at the point\nwhere the UnknownSolver object was used as if it were valid (by calling\nmethod \"solve\").\n\nThe original solver was created with the following parameters:\n\texecutable: bonmin\n\ttype: bonmin\n\t_args: ()\n\toptions: {}"
     ]
    }
   ],
   "source": [
    "# import pyomo.environ as pyo\n",
    "import pyomo.gdp as gdp\n",
    "\n",
    "def unit_commitment():\n",
    "    m = pyomo.ConcreteModel()\n",
    "\n",
    "    m.N = pyomo.Set(initialize=N)\n",
    "    m.T = pyomo.Set(initialize=T)\n",
    "\n",
    "    m.x = pyomo.Var(m.N, m.T, bounds = (0, pmax))\n",
    "    m.u = pyomo.Var(m.N, m.T, domain=pyo.Binary)\n",
    "    \n",
    "    # objective\n",
    "    m.cost = pyomo.Objective(expr = sum(m.x[n,t]*a[n] * m.u[n,t]*b[n] for t in m.T for n in m.N), sense=pyo.minimize)\n",
    "    \n",
    "    # demand\n",
    "    m.demand = pyomo.Constraint(m.T, rule=lambda m, t: sum(m.x[n,t] for n in N) == d[t])\n",
    "    \n",
    "    # semi-continuous\n",
    "    m.lb = pyomo.Constraint(m.N, m.T, rule=lambda m, n, t: pmin*m.u[n,t] <= m.x[n,t])\n",
    "    m.ub = pyomo.Constraint(m.N, m.T, rule=lambda m, n, t: pmax*m.u[n,t] >= m.x[n,t])\n",
    "    return m\n",
    "   \n",
    "m = unit_commitment()\n",
    "# pyo.SolverFactory('glpk').solve(m).write()\n",
    "\n",
    "solver=pyomo.SolverFactory('bonmin')\n",
    "# solver = pyomo.SolverFactory(solvername,executable=solverpath)\n",
    "solver.solve(m,tee=True,keepfiles=True).write()\n",
    "\n",
    "fig, ax = plt.subplots(max(N)+1, 1, figsize=(8, 1.5*max(N)+1))\n",
    "for n in N:\n",
    "    ax[n].bar(T+1, [m.x[n,t]() for t in T])\n",
    "    ax[n].set_xlim(0, max(T)+2)\n",
    "    ax[n].set_ylim(0, 1.1*pmax)\n",
    "    ax[n].plot(ax[n].get_xlim(), np.array([pmax, pmax]), 'r--')\n",
    "    ax[n].plot(ax[n].get_xlim(), np.array([pmin, pmin]), 'r--')\n",
    "    ax[n].set_title('Unit ' + str(n+1))\n",
    "fig.tight_layout()"
   ]
  },
  {
   "cell_type": "code",
   "execution_count": 41,
   "id": "9f4731e9-2f59-412c-860c-8d674dc94cb5",
   "metadata": {
    "tags": []
   },
   "outputs": [
    {
     "name": "stdout",
     "output_type": "stream",
     "text": [
      "Welcome to the CBC MILP Solver \n",
      "Version: Trunk\n",
      "Build Date: Oct 24 2021 \n",
      "\n",
      "Starting solution of the Linear programming relaxation problem using Primal Simplex\n",
      "\n",
      "Coin0506I Presolve 1 (0) rows, 6 (0) columns and 6 (0) elements\n",
      "Clp1000I sum of infeasibilities 0 - average 0, 6 fixed columns\n",
      "Coin0506I Presolve 0 (-1) rows, 0 (-6) columns and 0 (-6) elements\n",
      "Clp0000I Optimal - objective value -0\n",
      "Clp0000I Optimal - objective value -0\n",
      "Coin0511I After Postsolve, objective 0, infeasibilities - dual 0 (0), primal 0 (0)\n",
      "Clp0000I Optimal - objective value 42.171429\n",
      "Clp0000I Optimal - objective value 42.171429\n",
      "Clp0000I Optimal - objective value 42.171429\n",
      "Clp0032I Optimal objective 42.17142857 - 0 iterations time 0.002, Idiot 0.00\n",
      "\n",
      "Starting MIP optimization\n",
      "selected items: [0, 3]\n"
     ]
    }
   ],
   "source": [
    "from mip import Model, xsum, maximize, BINARY\n",
    "\n",
    "p = [10, 13, 18, 31, 7, 15]\n",
    "w = [11, 15, 20, 35, 10, 33]\n",
    "c, I = 47, range(len(w))\n",
    "\n",
    "m = Model(\"knapsack\")\n",
    "\n",
    "x = [m.add_var(var_type=BINARY) for i in I]\n",
    "\n",
    "m.objective = maximize(xsum(p[i] * x[i] for i in I))\n",
    "\n",
    "m += xsum(w[i] * x[i] for i in I) <= c\n",
    "\n",
    "m.optimize()\n",
    "\n",
    "selected = [i for i in I if x[i].x >= 0.99]\n",
    "print(\"selected items: {}\".format(selected))"
   ]
  },
  {
   "cell_type": "code",
   "execution_count": null,
   "id": "86ce9c61-8b27-4a01-9897-bb520c5723a7",
   "metadata": {},
   "outputs": [],
   "source": []
  }
 ],
 "metadata": {
  "kernelspec": {
   "display_name": "Python 3 (ipykernel)",
   "language": "python",
   "name": "python3"
  },
  "language_info": {
   "codemirror_mode": {
    "name": "ipython",
    "version": 3
   },
   "file_extension": ".py",
   "mimetype": "text/x-python",
   "name": "python",
   "nbconvert_exporter": "python",
   "pygments_lexer": "ipython3",
   "version": "3.11.3"
  }
 },
 "nbformat": 4,
 "nbformat_minor": 5
}
